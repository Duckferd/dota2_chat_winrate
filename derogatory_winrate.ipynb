{
 "cells": [
  {
   "cell_type": "code",
   "execution_count": null,
   "metadata": {},
   "outputs": [],
   "source": [
    "import requests\n",
    "import json\n",
    "import pandas as pd\n",
    "import matplotlib.pyplot as plt\n",
    "import numpy as np\n",
    "from config import account_id"
   ]
  },
  {
   "cell_type": "code",
   "execution_count": null,
   "metadata": {},
   "outputs": [],
   "source": [
    "# Replace {account_id} with the actual account ID of the player\n",
    "# Define the API URL for a player's match history\n",
    "url = \"https://api.opendota.com/api/players/{account_id}/wordcloud\".format(account_id=account_id)\n",
    "\n",
    "stopwords = pd.read_csv(\"stopwords.csv\")\n",
    "stopwords2=pd.read_csv(\"filter-wordlist.csv\")"
   ]
  },
  {
   "cell_type": "code",
   "execution_count": null,
   "metadata": {},
   "outputs": [],
   "source": [
    "# Send a GET request to the API endpoint to retrieve the player's match history\n",
    "response = requests.get(url)\n",
    "total=requests.get(url).json()\n",
    "wins=requests.get(url+\"?win\").json()"
   ]
  },
  {
   "cell_type": "code",
   "execution_count": null,
   "metadata": {},
   "outputs": [],
   "source": [
    "#pandas dataframe creation for total matches vs. wins\n",
    "total_df=pd.DataFrame(total).dropna(how=\"any\")\n",
    "wins_df=pd.DataFrame(wins).dropna(how=\"any\")\n",
    "total_df"
   ]
  },
  {
   "cell_type": "code",
   "execution_count": null,
   "metadata": {},
   "outputs": [],
   "source": [
    "#cleaning coumn names for the wins dataframe\n",
    "wins_df=wins_df.rename(columns={\"my_word_counts\": \"my_word_counts (win)\"})\n",
    "wins_df"
   ]
  },
  {
   "cell_type": "code",
   "execution_count": null,
   "metadata": {},
   "outputs": [],
   "source": [
    "#merging of total and win dataframes\n",
    "merge_df=pd.merge(total_df, wins_df, left_index=True, right_index=True)\n",
    "merge_df=merge_df[[\"my_word_counts\", \"my_word_counts (win)\",\"all_word_counts_x\"]]\n",
    "\n",
    "#cleaning of the combined dataframe by applying common-word filters\n",
    "merge_df[\"Percent Win\"]=100*merge_df[\"my_word_counts (win)\"]/merge_df[\"my_word_counts\"].round(0)\n",
    "merge_df=merge_df[~merge_df.index.isin(stopwords[\"stopwords\"])]\n",
    "merge_df=merge_df[~merge_df.index.isin(stopwords2[\"stopwords\"])]\n",
    "\n",
    "merge_df=merge_df.rename(columns={\"all_word_counts_x\":\"all_word_counts\"})\n",
    "\n",
    "merge_df.head(50)"
   ]
  },
  {
   "cell_type": "code",
   "execution_count": null,
   "metadata": {},
   "outputs": [],
   "source": [
    "#sorting the dataframe by percent win, etc.\n",
    "#min_cutoff is the minimum number of words required to display on a chart. If your chart is too messy, increase this value; else you can decrease it.\n",
    "min_cutoff=40\n",
    "sorted_df=merge_df[(merge_df[\"my_word_counts\"]>min_cutoff)].sort_values([\"Percent Win\", \"my_word_counts\"], ascending=False)\n",
    "sorted_df"
   ]
  },
  {
   "cell_type": "code",
   "execution_count": null,
   "metadata": {},
   "outputs": [],
   "source": [
    "#bar chart\n",
    "sorted_df[[\"Percent Win\", \"my_word_counts\"]].plot(kind=\"bar\", color=[\"red\", \"blue\"], title=\"Wordcloud vs. Win Percentage\", ylim=(0,100), position=0, figsize=(20,10), ylabel=\"% Win/Word Count\", grid=True, legend=True)\n"
   ]
  },
  {
   "cell_type": "code",
   "execution_count": null,
   "metadata": {},
   "outputs": [],
   "source": [
    "#scatter chart\n",
    "sorted_df.plot(kind=\"scatter\", x= \"Percent Win\", y=\"my_word_counts\", ylim=(0, 400), xlim=(50, 100), title=\"Wordcloud vs. Win Percentage\", figsize=(20,10), grid=True, legend=True)\n",
    "for i, txt in enumerate(sorted_df.index):\n",
    "   plt.annotate(txt, (sorted_df[\"Percent Win\"].iat[i]+0.5, sorted_df[\"my_word_counts\"].iat[i]))\n"
   ]
  }
 ],
 "metadata": {
  "kernelspec": {
   "display_name": "base",
   "language": "python",
   "name": "python3"
  },
  "language_info": {
   "codemirror_mode": {
    "name": "ipython",
    "version": 3
   },
   "file_extension": ".py",
   "mimetype": "text/x-python",
   "name": "python",
   "nbconvert_exporter": "python",
   "pygments_lexer": "ipython3",
   "version": "3.9.13"
  },
  "orig_nbformat": 4,
  "vscode": {
   "interpreter": {
    "hash": "fb833273add3e7c60eb33c0608260b79a61e072ade6f02cc8d07b0a26eef8ab8"
   }
  }
 },
 "nbformat": 4,
 "nbformat_minor": 2
}
